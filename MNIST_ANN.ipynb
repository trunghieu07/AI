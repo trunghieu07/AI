{
  "nbformat": 4,
  "nbformat_minor": 0,
  "metadata": {
    "colab": {
      "name": "MNIST_ANN.ipynb",
      "provenance": []
    },
    "kernelspec": {
      "name": "python3",
      "display_name": "Python 3"
    },
    "language_info": {
      "name": "python"
    }
  },
  "cells": [
    {
      "cell_type": "code",
      "execution_count": null,
      "metadata": {
        "colab": {
          "base_uri": "https://localhost:8080/"
        },
        "id": "YdcPrV8M7_Q4",
        "outputId": "b01b6bbe-5c78-4bd3-907d-b8f0fa8ef60e"
      },
      "outputs": [
        {
          "output_type": "stream",
          "name": "stdout",
          "text": [
            "Downloading data from https://storage.googleapis.com/tensorflow/tf-keras-datasets/mnist.npz\n",
            "11493376/11490434 [==============================] - 0s 0us/step\n",
            "11501568/11490434 [==============================] - 0s 0us/step\n"
          ]
        }
      ],
      "source": [
        "from keras.datasets import mnist\n",
        "(X_train,y_train),(X_test,y_test)=mnist.load_data()"
      ]
    },
    {
      "cell_type": "code",
      "source": [
        "import matplotlib.pyplot as plt\n",
        "for i in range(9):\n",
        " plt.subplot(330+i+1)\n",
        " plt.imshow(X_train[i])\n",
        "plt.show()"
      ],
      "metadata": {
        "colab": {
          "base_uri": "https://localhost:8080/",
          "height": 268
        },
        "id": "O3YSta-ZNwfA",
        "outputId": "f3a7f88c-6434-433a-faec-34eee11b071e"
      },
      "execution_count": null,
      "outputs": [
        {
          "output_type": "display_data",
          "data": {
            "text/plain": [
              "<Figure size 432x288 with 9 Axes>"
            ],
            "image/png": "[encoded data removed]"
          },
          "metadata": {
            "needs_background": "light"
          }
        }
      ]
    },
    {
      "cell_type": "code",
      "source": [
        "X = X_test\n",
        "X_train =X_train.reshape(60000,784)\n",
        "X_test = X_test.reshape(10000,784)\n",
        "X_train = X_train.astype('float32')\n",
        "X_test = X_test.astype('float32')\n",
        "\n",
        "#chuyen doi tu RGB 0-255 qua Gray 0-1\n",
        "X_train/=255\n",
        "X_test/=255\n",
        "\n",
        "from tensorflow.keras.utils import to_categorical\n",
        "y_train=to_categorical(y_train,10)\n",
        "y_test=to_categorical(y_test,10)"
      ],
      "metadata": {
        "id": "l4g5cDReOISC"
      },
      "execution_count": null,
      "outputs": []
    },
    {
      "cell_type": "code",
      "source": [
        "from keras.models import Sequential\n",
        "from keras.layers import Dense,Activation,Dropout\n",
        "#tạo lớp ẩn\n",
        "model = Sequential()\n",
        "model.add(Dense(512,activation='relu',input_shape=(784,)))\n",
        "model.add(Dropout(0.2))\n",
        "model.add(Dense(512,activation='relu'))\n",
        "model.add(Dropout(0.1))\n",
        "model.add(Dense(10,activation=\"softmax\"))\n",
        "model.summary()\n",
        "from tensorflow.keras.optimizers import RMSprop\n",
        "model.compile(loss='categorical_crossentropy',optimizer=RMSprop(),metrics=['accuracy'])"
      ],
      "metadata": {
        "colab": {
          "base_uri": "https://localhost:8080/"
        },
        "id": "AbciMhRANxgZ",
        "outputId": "8358442f-5929-4689-b67d-3e15e9363902"
      },
      "execution_count": null,
      "outputs": [
        {
          "output_type": "stream",
          "name": "stdout",
          "text": [
            "Model: \"sequential_1\"\n",
            "_________________________________________________________________\n",
            " Layer (type)                Output Shape              Param #   \n",
            "=================================================================\n",
            " dense (Dense)               (None, 512)               401920    \n",
            "                                                                 \n",
            " dropout (Dropout)           (None, 512)               0         \n",
            "                                                                 \n",
            " dense_1 (Dense)             (None, 512)               262656    \n",
            "                                                                 \n",
            " dropout_1 (Dropout)         (None, 512)               0         \n",
            "                                                                 \n",
            " dense_2 (Dense)             (None, 10)                5130      \n",
            "                                                                 \n",
            "=================================================================\n",
            "Total params: 669,706\n",
            "Trainable params: 669,706\n",
            "Non-trainable params: 0\n",
            "_________________________________________________________________\n"
          ]
        }
      ]
    },
    {
      "cell_type": "code",
      "source": [
        "model.fit(X_train, y_train, batch_size=128,epochs =50, verbose=1,validation_data=(X_test,y_test))\n"
      ],
      "metadata": {
        "colab": {
          "base_uri": "https://localhost:8080/"
        },
        "id": "ghW7XBPuN0J8",
        "outputId": "7b4169a4-2d45-4fff-ce58-9b4e08a5483a"
      },
      "execution_count": null,
      "outputs": [
        {
          "output_type": "stream",
          "name": "stdout",
          "text": [
            "Epoch 1/50\n",
            "469/469 [==============================] - 10s 19ms/step - loss: 0.2427 - accuracy: 0.9254 - val_loss: 0.1078 - val_accuracy: 0.9666\n",
            "Epoch 2/50\n",
            "469/469 [==============================] - 9s 20ms/step - loss: 0.1012 - accuracy: 0.9691 - val_loss: 0.1154 - val_accuracy: 0.9653\n",
            "Epoch 3/50\n",
            "469/469 [==============================] - 9s 19ms/step - loss: 0.0738 - accuracy: 0.9770 - val_loss: 0.0780 - val_accuracy: 0.9773\n",
            "Epoch 4/50\n",
            "469/469 [==============================] - 9s 18ms/step - loss: 0.0585 - accuracy: 0.9821 - val_loss: 0.0987 - val_accuracy: 0.9731\n",
            "Epoch 5/50\n",
            "469/469 [==============================] - 9s 18ms/step - loss: 0.0488 - accuracy: 0.9855 - val_loss: 0.0767 - val_accuracy: 0.9794\n",
            "Epoch 6/50\n",
            "469/469 [==============================] - 9s 19ms/step - loss: 0.0400 - accuracy: 0.9879 - val_loss: 0.0687 - val_accuracy: 0.9833\n",
            "Epoch 7/50\n",
            "469/469 [==============================] - 9s 18ms/step - loss: 0.0364 - accuracy: 0.9887 - val_loss: 0.0784 - val_accuracy: 0.9826\n",
            "Epoch 8/50\n",
            "469/469 [==============================] - 9s 19ms/step - loss: 0.0320 - accuracy: 0.9905 - val_loss: 0.0847 - val_accuracy: 0.9820\n",
            "Epoch 9/50\n",
            "469/469 [==============================] - 9s 19ms/step - loss: 0.0292 - accuracy: 0.9913 - val_loss: 0.0797 - val_accuracy: 0.9837\n",
            "Epoch 10/50\n",
            "469/469 [==============================] - 9s 19ms/step - loss: 0.0264 - accuracy: 0.9920 - val_loss: 0.0861 - val_accuracy: 0.9840\n",
            "Epoch 11/50\n",
            "469/469 [==============================] - 9s 18ms/step - loss: 0.0243 - accuracy: 0.9931 - val_loss: 0.0861 - val_accuracy: 0.9846\n",
            "Epoch 12/50\n",
            "469/469 [==============================] - 9s 19ms/step - loss: 0.0206 - accuracy: 0.9938 - val_loss: 0.0945 - val_accuracy: 0.9830\n",
            "Epoch 13/50\n",
            "469/469 [==============================] - 8s 18ms/step - loss: 0.0206 - accuracy: 0.9939 - val_loss: 0.0893 - val_accuracy: 0.9848\n",
            "Epoch 14/50\n",
            "469/469 [==============================] - 8s 18ms/step - loss: 0.0182 - accuracy: 0.9947 - val_loss: 0.1021 - val_accuracy: 0.9816\n",
            "Epoch 15/50\n",
            "469/469 [==============================] - 9s 19ms/step - loss: 0.0187 - accuracy: 0.9948 - val_loss: 0.0967 - val_accuracy: 0.9847\n",
            "Epoch 16/50\n",
            "469/469 [==============================] - 9s 19ms/step - loss: 0.0175 - accuracy: 0.9951 - val_loss: 0.0962 - val_accuracy: 0.9858\n",
            "Epoch 17/50\n",
            "469/469 [==============================] - 9s 20ms/step - loss: 0.0168 - accuracy: 0.9954 - val_loss: 0.1193 - val_accuracy: 0.9812\n",
            "Epoch 18/50\n",
            "469/469 [==============================] - 9s 19ms/step - loss: 0.0169 - accuracy: 0.9953 - val_loss: 0.1163 - val_accuracy: 0.9831\n",
            "Epoch 19/50\n",
            "469/469 [==============================] - 9s 19ms/step - loss: 0.0152 - accuracy: 0.9957 - val_loss: 0.1313 - val_accuracy: 0.9815\n",
            "Epoch 20/50\n",
            "469/469 [==============================] - 9s 19ms/step - loss: 0.0143 - accuracy: 0.9957 - val_loss: 0.1179 - val_accuracy: 0.9833\n",
            "Epoch 21/50\n",
            "469/469 [==============================] - 9s 19ms/step - loss: 0.0148 - accuracy: 0.9959 - val_loss: 0.1264 - val_accuracy: 0.9832\n",
            "Epoch 22/50\n",
            "469/469 [==============================] - 9s 20ms/step - loss: 0.0141 - accuracy: 0.9962 - val_loss: 0.1101 - val_accuracy: 0.9846\n",
            "Epoch 23/50\n",
            "469/469 [==============================] - 9s 19ms/step - loss: 0.0130 - accuracy: 0.9964 - val_loss: 0.1279 - val_accuracy: 0.9830\n",
            "Epoch 24/50\n",
            "469/469 [==============================] - 9s 20ms/step - loss: 0.0138 - accuracy: 0.9966 - val_loss: 0.1302 - val_accuracy: 0.9839\n",
            "Epoch 25/50\n",
            "469/469 [==============================] - 9s 18ms/step - loss: 0.0134 - accuracy: 0.9963 - val_loss: 0.1340 - val_accuracy: 0.9825\n",
            "Epoch 26/50\n",
            "469/469 [==============================] - 8s 18ms/step - loss: 0.0116 - accuracy: 0.9969 - val_loss: 0.1300 - val_accuracy: 0.9837\n",
            "Epoch 27/50\n",
            "469/469 [==============================] - 9s 19ms/step - loss: 0.0136 - accuracy: 0.9969 - val_loss: 0.1439 - val_accuracy: 0.9853\n",
            "Epoch 28/50\n",
            "469/469 [==============================] - 9s 19ms/step - loss: 0.0128 - accuracy: 0.9968 - val_loss: 0.1455 - val_accuracy: 0.9832\n",
            "Epoch 29/50\n",
            "469/469 [==============================] - 9s 19ms/step - loss: 0.0130 - accuracy: 0.9969 - val_loss: 0.1260 - val_accuracy: 0.9849\n",
            "Epoch 30/50\n",
            "469/469 [==============================] - 9s 19ms/step - loss: 0.0109 - accuracy: 0.9972 - val_loss: 0.1336 - val_accuracy: 0.9841\n",
            "Epoch 31/50\n",
            "469/469 [==============================] - 9s 19ms/step - loss: 0.0103 - accuracy: 0.9975 - val_loss: 0.1605 - val_accuracy: 0.9844\n",
            "Epoch 32/50\n",
            "469/469 [==============================] - 9s 19ms/step - loss: 0.0125 - accuracy: 0.9972 - val_loss: 0.1422 - val_accuracy: 0.9830\n",
            "Epoch 33/50\n",
            "469/469 [==============================] - 9s 19ms/step - loss: 0.0099 - accuracy: 0.9978 - val_loss: 0.1331 - val_accuracy: 0.9850\n",
            "Epoch 34/50\n",
            "469/469 [==============================] - 9s 18ms/step - loss: 0.0107 - accuracy: 0.9973 - val_loss: 0.1438 - val_accuracy: 0.9849\n",
            "Epoch 35/50\n",
            "469/469 [==============================] - 9s 19ms/step - loss: 0.0096 - accuracy: 0.9976 - val_loss: 0.1757 - val_accuracy: 0.9845\n",
            "Epoch 36/50\n",
            "469/469 [==============================] - 9s 19ms/step - loss: 0.0110 - accuracy: 0.9973 - val_loss: 0.1490 - val_accuracy: 0.9857\n",
            "Epoch 37/50\n",
            "469/469 [==============================] - 9s 19ms/step - loss: 0.0084 - accuracy: 0.9980 - val_loss: 0.1625 - val_accuracy: 0.9847\n",
            "Epoch 38/50\n",
            "469/469 [==============================] - 9s 19ms/step - loss: 0.0095 - accuracy: 0.9978 - val_loss: 0.1709 - val_accuracy: 0.9827\n",
            "Epoch 39/50\n",
            "469/469 [==============================] - 9s 19ms/step - loss: 0.0115 - accuracy: 0.9975 - val_loss: 0.1722 - val_accuracy: 0.9842\n",
            "Epoch 40/50\n",
            "469/469 [==============================] - 8s 18ms/step - loss: 0.0116 - accuracy: 0.9976 - val_loss: 0.1682 - val_accuracy: 0.9845\n",
            "Epoch 41/50\n",
            "469/469 [==============================] - 9s 19ms/step - loss: 0.0101 - accuracy: 0.9978 - val_loss: 0.1642 - val_accuracy: 0.9834\n",
            "Epoch 42/50\n",
            "469/469 [==============================] - 9s 19ms/step - loss: 0.0095 - accuracy: 0.9981 - val_loss: 0.2011 - val_accuracy: 0.9824\n",
            "Epoch 43/50\n",
            "469/469 [==============================] - 9s 19ms/step - loss: 0.0097 - accuracy: 0.9977 - val_loss: 0.1807 - val_accuracy: 0.9827\n",
            "Epoch 44/50\n",
            "469/469 [==============================] - 9s 19ms/step - loss: 0.0094 - accuracy: 0.9980 - val_loss: 0.1789 - val_accuracy: 0.9845\n",
            "Epoch 45/50\n",
            "469/469 [==============================] - 9s 19ms/step - loss: 0.0107 - accuracy: 0.9979 - val_loss: 0.1653 - val_accuracy: 0.9847\n",
            "Epoch 46/50\n",
            "469/469 [==============================] - 9s 19ms/step - loss: 0.0092 - accuracy: 0.9979 - val_loss: 0.1891 - val_accuracy: 0.9836\n",
            "Epoch 47/50\n",
            "469/469 [==============================] - 9s 20ms/step - loss: 0.0098 - accuracy: 0.9981 - val_loss: 0.1842 - val_accuracy: 0.9849\n",
            "Epoch 48/50\n",
            "469/469 [==============================] - 9s 19ms/step - loss: 0.0082 - accuracy: 0.9982 - val_loss: 0.1975 - val_accuracy: 0.9848\n",
            "Epoch 49/50\n",
            "469/469 [==============================] - 9s 19ms/step - loss: 0.0089 - accuracy: 0.9980 - val_loss: 0.2152 - val_accuracy: 0.9836\n",
            "Epoch 50/50\n",
            "469/469 [==============================] - 9s 19ms/step - loss: 0.0094 - accuracy: 0.9981 - val_loss: 0.1944 - val_accuracy: 0.9838\n"
          ]
        },
        {
          "output_type": "execute_result",
          "data": {
            "text/plain": [
              "<keras.callbacks.History at 0x7f760e2842d0>"
            ]
          },
          "metadata": {},
          "execution_count": 8
        }
      ]
    },
    {
      "cell_type": "code",
      "source": [
        "model.save('MINST_ANN.h5') #luu du lieu"
      ],
      "metadata": {
        "id": "9r_XbM0aOMX4"
      },
      "execution_count": null,
      "outputs": []
    },
    {
      "cell_type": "code",
      "source": [
        "score = model.evaluate(X_test, y_test, verbose=1)\n",
        "print('Test loss =', score[0])\n",
        "print('Test accurracy =', score[1])"
      ],
      "metadata": {
        "colab": {
          "base_uri": "https://localhost:8080/"
        },
        "id": "-y32dueL7_wZ",
        "outputId": "3a6c0108-a653-44c6-bcc7-55b2ac95e999"
      },
      "execution_count": null,
      "outputs": [
        {
          "output_type": "stream",
          "name": "stdout",
          "text": [
            "313/313 [==============================] - 1s 4ms/step - loss: 0.1944 - accuracy: 0.9838\n",
            "Test loss = 0.19436407089233398\n",
            "Test accurracy = 0.9837999939918518\n"
          ]
        }
      ]
    },
    {
      "cell_type": "code",
      "source": [
        "history=model.fit(X_train, y_train, batch_size=128,epochs =20, verbose=1,validation_data=(X_test,y_test))"
      ],
      "metadata": {
        "colab": {
          "base_uri": "https://localhost:8080/"
        },
        "id": "D2mBnH5x8N6b",
        "outputId": "a7ba3418-af4f-4cd9-e94e-534ab9b0d3fa"
      },
      "execution_count": null,
      "outputs": [
        {
          "output_type": "stream",
          "name": "stdout",
          "text": [
            "Epoch 1/20\n",
            "469/469 [==============================] - 9s 19ms/step - loss: 0.0107 - accuracy: 0.9980 - val_loss: 0.1843 - val_accuracy: 0.9844\n",
            "Epoch 2/20\n",
            "469/469 [==============================] - 9s 19ms/step - loss: 0.0095 - accuracy: 0.9981 - val_loss: 0.1822 - val_accuracy: 0.9837\n",
            "Epoch 3/20\n",
            "469/469 [==============================] - 9s 19ms/step - loss: 0.0084 - accuracy: 0.9984 - val_loss: 0.2142 - val_accuracy: 0.9834\n",
            "Epoch 4/20\n",
            "469/469 [==============================] - 9s 18ms/step - loss: 0.0089 - accuracy: 0.9982 - val_loss: 0.1748 - val_accuracy: 0.9858\n",
            "Epoch 5/20\n",
            "469/469 [==============================] - 9s 20ms/step - loss: 0.0110 - accuracy: 0.9981 - val_loss: 0.2030 - val_accuracy: 0.9837\n",
            "Epoch 6/20\n",
            "469/469 [==============================] - 9s 19ms/step - loss: 0.0098 - accuracy: 0.9982 - val_loss: 0.2065 - val_accuracy: 0.9847\n",
            "Epoch 7/20\n",
            "469/469 [==============================] - 9s 19ms/step - loss: 0.0093 - accuracy: 0.9981 - val_loss: 0.2084 - val_accuracy: 0.9842\n",
            "Epoch 8/20\n",
            "469/469 [==============================] - 9s 19ms/step - loss: 0.0100 - accuracy: 0.9982 - val_loss: 0.1908 - val_accuracy: 0.9840\n",
            "Epoch 9/20\n",
            "469/469 [==============================] - 9s 20ms/step - loss: 0.0096 - accuracy: 0.9982 - val_loss: 0.2018 - val_accuracy: 0.9840\n",
            "Epoch 10/20\n",
            "469/469 [==============================] - 9s 19ms/step - loss: 0.0083 - accuracy: 0.9984 - val_loss: 0.2291 - val_accuracy: 0.9836\n",
            "Epoch 11/20\n",
            "469/469 [==============================] - 9s 19ms/step - loss: 0.0095 - accuracy: 0.9981 - val_loss: 0.1950 - val_accuracy: 0.9843\n",
            "Epoch 12/20\n",
            "469/469 [==============================] - 9s 19ms/step - loss: 0.0090 - accuracy: 0.9983 - val_loss: 0.2208 - val_accuracy: 0.9838\n",
            "Epoch 13/20\n",
            "469/469 [==============================] - 9s 19ms/step - loss: 0.0076 - accuracy: 0.9987 - val_loss: 0.2126 - val_accuracy: 0.9850\n",
            "Epoch 14/20\n",
            "469/469 [==============================] - 9s 19ms/step - loss: 0.0083 - accuracy: 0.9985 - val_loss: 0.2350 - val_accuracy: 0.9836\n",
            "Epoch 15/20\n",
            "469/469 [==============================] - 9s 19ms/step - loss: 0.0083 - accuracy: 0.9984 - val_loss: 0.2209 - val_accuracy: 0.9849\n",
            "Epoch 16/20\n",
            "469/469 [==============================] - 9s 19ms/step - loss: 0.0076 - accuracy: 0.9985 - val_loss: 0.2276 - val_accuracy: 0.9844\n",
            "Epoch 17/20\n",
            "469/469 [==============================] - 9s 19ms/step - loss: 0.0085 - accuracy: 0.9983 - val_loss: 0.2327 - val_accuracy: 0.9841\n",
            "Epoch 18/20\n",
            "469/469 [==============================] - 9s 20ms/step - loss: 0.0071 - accuracy: 0.9985 - val_loss: 0.2326 - val_accuracy: 0.9842\n",
            "Epoch 19/20\n",
            "469/469 [==============================] - 9s 19ms/step - loss: 0.0076 - accuracy: 0.9986 - val_loss: 0.2439 - val_accuracy: 0.9839\n",
            "Epoch 20/20\n",
            "469/469 [==============================] - 9s 19ms/step - loss: 0.0089 - accuracy: 0.9983 - val_loss: 0.2049 - val_accuracy: 0.9854\n"
          ]
        }
      ]
    },
    {
      "cell_type": "code",
      "source": [
        "plt.plot(history.history['accuracy'])\n",
        "plt.plot(history.history['val_accuracy'])\n",
        "plt.title('Model Accuracy')\n",
        "plt.ylabel('Accuracy')\n",
        "plt.xlabel('epoch')\n",
        "plt.legend(['train','validation'], loc='upper left')"
      ],
      "metadata": {
        "colab": {
          "base_uri": "https://localhost:8080/",
          "height": 312
        },
        "id": "476wciaF9lH0",
        "outputId": "d7950a75-9f9a-46ef-9c0d-9084375b3970"
      },
      "execution_count": null,
      "outputs": [
        {
          "output_type": "execute_result",
          "data": {
            "text/plain": [
              "<matplotlib.legend.Legend at 0x7f760eba12d0>"
            ]
          },
          "metadata": {},
          "execution_count": 12
        },
        {
          "output_type": "display_data",
          "data": {
            "text/plain": [
              "<Figure size 432x288 with 1 Axes>"
            ],
            "image/png": "[encoded data removed]"
          },
          "metadata": {
            "needs_background": "light"
          }
        }
      ]
    },
    {
      "cell_type": "code",
      "source": [
        "import numpy as np\n",
        "y_pred = model.predict(X_test)\n",
        "for i in range(9):\n",
        "  plt.subplot(330+i+1)\n",
        "  plt.imshow(X[i])\n",
        "  plt.show()\n",
        "  print(np.round(y_pred[i]))"
      ],
      "metadata": {
        "colab": {
          "base_uri": "https://localhost:8080/",
          "height": 1000
        },
        "id": "fgQUVOka94SU",
        "outputId": "d28efc7f-73f6-4560-e8a8-e384adb45604"
      },
      "execution_count": null,
      "outputs": [
        {
          "output_type": "display_data",
          "data": {
            "text/plain": [
              "<Figure size 432x288 with 1 Axes>"
            ],
            "image/png": "[encoded data removed]"
          },
          "metadata": {
            "needs_background": "light"
          }
        },
        {
          "output_type": "stream",
          "name": "stdout",
          "text": [
            "[0. 0. 0. 0. 0. 0. 0. 1. 0. 0.]\n"
          ]
        },
        {
          "output_type": "display_data",
          "data": {
            "text/plain": [
              "<Figure size 432x288 with 1 Axes>"
            ],
            "image/png": "[encoded data removed]"
          },
          "metadata": {
            "needs_background": "light"
          }
        },
        {
          "output_type": "stream",
          "name": "stdout",
          "text": [
            "[0. 0. 1. 0. 0. 0. 0. 0. 0. 0.]\n"
          ]
        },
        {
          "output_type": "display_data",
          "data": {
            "text/plain": [
              "<Figure size 432x288 with 1 Axes>"
            ],
            "image/png": "[encoded data removed]"
          },
          "metadata": {
            "needs_background": "light"
          }
        },
        {
          "output_type": "stream",
          "name": "stdout",
          "text": [
            "[0. 1. 0. 0. 0. 0. 0. 0. 0. 0.]\n"
          ]
        },
        {
          "output_type": "display_data",
          "data": {
            "text/plain": [
              "<Figure size 432x288 with 1 Axes>"
            ],
            "image/png": "[encoded data removed]"
          },
          "metadata": {
            "needs_background": "light"
          }
        },
        {
          "output_type": "stream",
          "name": "stdout",
          "text": [
            "[1. 0. 0. 0. 0. 0. 0. 0. 0. 0.]\n"
          ]
        },
        {
          "output_type": "display_data",
          "data": {
            "text/plain": [
              "<Figure size 432x288 with 1 Axes>"
            ],
            "image/png": "[encoded data removed]"
          },
          "metadata": {
            "needs_background": "light"
          }
        },
        {
          "output_type": "stream",
          "name": "stdout",
          "text": [
            "[0. 0. 0. 0. 1. 0. 0. 0. 0. 0.]\n"
          ]
        },
        {
          "output_type": "display_data",
          "data": {
            "text/plain": [
              "<Figure size 432x288 with 1 Axes>"
            ],
            "image/png": "[encoded data removed]"
          },
          "metadata": {
            "needs_background": "light"
          }
        },
        {
          "output_type": "stream",
          "name": "stdout",
          "text": [
            "[0. 1. 0. 0. 0. 0. 0. 0. 0. 0.]\n"
          ]
        },
        {
          "output_type": "display_data",
          "data": {
            "text/plain": [
              "<Figure size 432x288 with 1 Axes>"
            ],
            "image/png": "[encoded data removed]"
          },
          "metadata": {
            "needs_background": "light"
          }
        },
        {
          "output_type": "stream",
          "name": "stdout",
          "text": [
            "[0. 0. 0. 0. 1. 0. 0. 0. 0. 0.]\n"
          ]
        },
        {
          "output_type": "display_data",
          "data": {
            "text/plain": [
              "<Figure size 432x288 with 1 Axes>"
            ],
            "image/png": "[encoded data removed]"
          },
          "metadata": {
            "needs_background": "light"
          }
        },
        {
          "output_type": "stream",
          "name": "stdout",
          "text": [
            "[0. 0. 0. 0. 0. 0. 0. 0. 0. 1.]\n"
          ]
        },
        {
          "output_type": "display_data",
          "data": {
            "text/plain": [
              "<Figure size 432x288 with 1 Axes>"
            ],
            "image/png": "[encoded data removed]"
          },
          "metadata": {
            "needs_background": "light"
          }
        },
        {
          "output_type": "stream",
          "name": "stdout",
          "text": [
            "[0. 0. 0. 0. 0. 1. 0. 0. 0. 0.]\n"
          ]
        }
      ]
    },
    {
      "cell_type": "code",
      "source": [
        ""
      ],
      "metadata": {
        "id": "rrUwvNh8mM08"
      },
      "execution_count": null,
      "outputs": []
    }
  ]
}